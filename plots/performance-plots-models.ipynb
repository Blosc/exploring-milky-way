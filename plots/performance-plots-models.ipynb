{
 "cells": [
  {
   "cell_type": "code",
   "execution_count": null,
   "metadata": {
    "is_executing": true
   },
   "outputs": [],
   "source": [
    "import blosc2\n",
    "import pandas as pd\n",
    "\n",
    "import plotly.express as px"
   ]
  },
  {
   "cell_type": "code",
   "execution_count": null,
   "metadata": {},
   "outputs": [],
   "source": [
    "lib_names = ['BloscLZ level 5', 'Zstd level 9', 'Zstd level 9 + BitShuffle']\n",
    "axis = [0, 1, 2] * 3\n",
    "libraries = [lib_names[0]] * 3 + [lib_names[1]] * 3 + [lib_names[2]] * 3"
   ]
  },
  {
   "cell_type": "code",
   "execution_count": null,
   "metadata": {},
   "outputs": [],
   "source": [
    "sizesGB = [9.2, 5.1, 4.9]\n",
    "fig = px.bar(y=sizesGB, x=lib_names, color=lib_names, labels = {'x': '', 'y': '', 'color': ''})\n",
    "fig.update_layout(title_text='File size of 3D array (GB)', title_x=0.45)\n",
    "fig.show()"
   ]
  },
  {
   "cell_type": "code",
   "execution_count": null,
   "metadata": {},
   "outputs": [],
   "source": [
    "speed1 = [3.47, 3.51, 3.53,  \n",
    "          3.28, 3.30, 3.44,\n",
    "          2.04, 2.05, 2.14]\n",
    "\n",
    "# nthreads = 1\n",
    "df1 = pd.DataFrame()\n",
    "df1.insert(0, 'Speed (GB/s)', speed1)\n",
    "df1.insert(1, 'Axis', axis)\n",
    "df1.insert(2, 'Library', libraries)\n",
    "df1.insert(3, 'nthreads', [1] * len(speed1))\n",
    "\n",
    "# nthreads = 16\n",
    "speed16 = [2.77, 2.78, 2.79,\n",
    "           2.54, 2.60, 2.84,\n",
    "           2.74, 2.79, 2.79]\n",
    "df16 = pd.DataFrame()\n",
    "df16.insert(0, 'Speed (GB/s)', speed16)\n",
    "df16.insert(1, 'Axis', axis)\n",
    "df16.insert(2, 'Library', libraries)\n",
    "df16.insert(3, 'nthreads', [16] * len(speed1))"
   ]
  },
  {
   "cell_type": "code",
   "execution_count": null,
   "metadata": {
    "scrolled": false
   },
   "outputs": [],
   "source": [
    "df = pd.concat([df1, df16], axis=0)\n",
    "df.reset_index(drop=True)\n",
    "\n",
    "fig = px.bar(df, x='Axis', y='Speed (GB/s)', color='Library', barmode = 'group', facet_col=\"nthreads\",\n",
    "            labels = {'Library': ''})\n",
    "fig.update_layout(title_text='Slicing speed along different axis (GB/s)', title_x=0.45)\n",
    "fig.show()"
   ]
  },
  {
   "cell_type": "code",
   "execution_count": null,
   "metadata": {
    "scrolled": false
   },
   "outputs": [],
   "source": [
    "fig = px.bar(df1, x='Axis', y='Speed (GB/s)', color='Library', barmode = 'group',\n",
    "            labels = {'Library': ''})\n",
    "fig.update_layout(title_text='Slicing speed along different axis (GB/s)', title_x=0.45)\n",
    "fig.show()"
   ]
  },
  {
   "cell_type": "code",
   "execution_count": null,
   "metadata": {},
   "outputs": [],
   "source": []
  }
 ],
 "metadata": {
  "kernelspec": {
   "display_name": "Python 3 (ipykernel)",
   "language": "python",
   "name": "python3"
  },
  "language_info": {
   "codemirror_mode": {
    "name": "ipython",
    "version": 3
   },
   "file_extension": ".py",
   "mimetype": "text/x-python",
   "name": "python",
   "nbconvert_exporter": "python",
   "pygments_lexer": "ipython3",
   "version": "3.10.8"
  }
 },
 "nbformat": 4,
 "nbformat_minor": 1
}
