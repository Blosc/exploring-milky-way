{
 "cells": [
  {
   "cell_type": "code",
   "execution_count": null,
   "metadata": {
    "is_executing": true
   },
   "outputs": [],
   "source": [
    "import plotly.express as px\n",
    "import plotly.io as pio\n",
    "pio.renderers.default = 'notebook'"
   ]
  },
  {
   "cell_type": "code",
   "execution_count": null,
   "metadata": {},
   "outputs": [],
   "source": [
    "lib_names = ['Blosc2 (NDim)', 'h5py (HDF5 - Blosc2)', 'Zarr (Blosc1)', 'h5py (HDF5 - Blosc1)']\n",
    "creation_time_min = [56.15, 35.09, 60, 45.74]"
   ]
  },
  {
   "cell_type": "code",
   "execution_count": null,
   "metadata": {},
   "outputs": [],
   "source": [
    "fig = px.bar(y=creation_time_min, x=lib_names, color=lib_names, \n",
    "             labels = {'x': '', 'y': '', 'color': ''})\n",
    "fig.update_layout(title_text='File creation time (minutes)', title_x=0.45)\n",
    "fig.show()"
   ]
  },
  {
   "cell_type": "code",
   "execution_count": null,
   "metadata": {},
   "outputs": [],
   "source": [
    "sizesGB = [13.0, 12.3, 32.15, 32.1]\n",
    "fig = px.bar(y=sizesGB, x=lib_names, color=lib_names, labels = {'x': '', 'y': '', 'color': ''})\n",
    "fig.update_layout(title_text='File size of 3D array (GB)', title_x=0.45)\n",
    "fig.show()"
   ]
  },
  {
   "cell_type": "code",
   "execution_count": null,
   "metadata": {},
   "outputs": [],
   "source": [
    "axis = [0, 1, 2] * 4\n",
    "libraries = [lib_names[0]] * 3 + [lib_names[1]] * 3 + [lib_names[2]] * 3 + [lib_names[3]] * 3"
   ]
  },
  {
   "cell_type": "code",
   "execution_count": null,
   "metadata": {},
   "outputs": [],
   "source": [
    "import pandas as pd\n",
    "\n",
    "speed1 = [5.27, 4.89, 4.72,\n",
    "          1.76, 1.8, 1.82,\n",
    "          1.68, 1.73, 1.70,\n",
    "          1.73, 1.76, 1.72]\n",
    "\n",
    "# nthreads = 1\n",
    "df1 = pd.DataFrame()\n",
    "df1.insert(0, 'Speed (GB/s)', speed1)\n",
    "df1.insert(1, 'Axis', axis)\n",
    "df1.insert(2, 'Library', libraries)\n",
    "df1.insert(3, 'nthreads', [1] * len(speed1))\n",
    "\n",
    "# nthreads = 16\n",
    "speed16 = [5.29, 5.56, 5.19,\n",
    "           1.13, 1.15, 1.14,\n",
    "           3.32, 3.5, 3.4,\n",
    "           3.57, 3.66, 3.43]\n",
    "df16 = pd.DataFrame()\n",
    "df16.insert(0, 'Speed (GB/s)', speed16)\n",
    "df16.insert(1, 'Axis', axis)\n",
    "df16.insert(2, 'Library', libraries)\n",
    "df16.insert(3, 'nthreads', [16] * len(speed1))"
   ]
  },
  {
   "cell_type": "code",
   "execution_count": null,
   "metadata": {},
   "outputs": [],
   "source": [
    "df = pd.concat([df1, df16], axis=0)\n",
    "df.reset_index(drop=True)\n",
    "\n",
    "fig = px.bar(df, x='Axis', y='Speed (GB/s)', color='Library', barmode = 'group', facet_col=\"nthreads\",\n",
    "            labels = {'Library': ''})\n",
    "fig.update_layout(title_text='Slicing speed along different axis with BloscLZ level 5 (GB/s)', title_x=0.45)\n",
    "fig.show()"
   ]
  },
  {
   "cell_type": "code",
   "execution_count": null,
   "metadata": {},
   "outputs": [],
   "source": [
    "# Without specifying nthreads\n",
    "speed = [3.85, 4.88, 4.98,\n",
    "         1.76, 1.8, 1.81,\n",
    "         4.04, 4.24, 4.18,\n",
    "         1.7, 1.72, 1.73]\n",
    "df_def = pd.DataFrame()\n",
    "df_def.insert(0, 'Speed (GB/s)', speed)\n",
    "df_def.insert(1, 'Axis', axis)\n",
    "df_def.insert(2, 'Library', libraries)\n",
    "df_def.insert(3, 'nthreads', ['Default'] * len(libraries))\n",
    "\n",
    "\n",
    "df2 = pd.concat([df, df_def], axis=0)\n",
    "df2.reset_index(drop=True)\n",
    "\n",
    "fig = px.bar(df2, x='Axis', y='Speed (GB/s)', color='Library', barmode = 'group', facet_col=\"nthreads\",\n",
    "            labels = {'Library': ''})\n",
    "fig.update_layout(title_text='Slicing speed along different axis (GB/s)', title_x=0.45)\n",
    "fig.show()"
   ]
  },
  {
   "cell_type": "code",
   "execution_count": null,
   "metadata": {},
   "outputs": [],
   "source": []
  }
 ],
 "metadata": {
  "kernelspec": {
   "display_name": "Python 3 (ipykernel)",
   "language": "python",
   "name": "python3"
  },
  "language_info": {
   "codemirror_mode": {
    "name": "ipython",
    "version": 3
   },
   "file_extension": ".py",
   "mimetype": "text/x-python",
   "name": "python",
   "nbconvert_exporter": "python",
   "pygments_lexer": "ipython3",
   "version": "3.10.11"
  }
 },
 "nbformat": 4,
 "nbformat_minor": 1
}
