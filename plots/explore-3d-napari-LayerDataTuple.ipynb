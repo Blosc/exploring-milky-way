{
 "cells": [
  {
   "cell_type": "markdown",
   "id": "079fef7a",
   "metadata": {},
   "source": [
    "## Ploting Gaia using napari"
   ]
  },
  {
   "cell_type": "code",
   "execution_count": null,
   "id": "869b2911-ab08-4326-9eea-33a9e9e0b21c",
   "metadata": {},
   "outputs": [],
   "source": [
    "%gui qt5\n",
    "import napari\n",
    "from magicgui import magicgui\n",
    "from napari import types\n",
    "import numpy as np\n",
    "import blosc2"
   ]
  },
  {
   "cell_type": "code",
   "execution_count": null,
   "id": "c73b0a4a-d7c2-44c3-8ae5-62813c01658b",
   "metadata": {},
   "outputs": [],
   "source": [
    "g3d = blosc2.open(\"/Users/faltet/blosc/Gaia/gaia-3d-windows-blosclz5.b2nd\")\n",
    "#g3d = blosc2.open(\"/Users/faltet/blosc/Gaia/gaia-3d-balanced.b2nd\")\n",
    "#g3d.info"
   ]
  },
  {
   "cell_type": "code",
   "execution_count": null,
   "id": "c534b345-bbd9-4470-859c-5a428e29e887",
   "metadata": {},
   "outputs": [],
   "source": [
    "# view_as_windows # this can be a good idea for implementing in blosc2"
   ]
  },
  {
   "cell_type": "code",
   "execution_count": null,
   "id": "d9ff706f",
   "metadata": {},
   "outputs": [],
   "source": [
    "origin = 7000\n",
    "minicube_side = 100\n",
    "start = origin - minicube_side // 2\n",
    "stop = origin + minicube_side // 2\n",
    "maxval = 15000"
   ]
  },
  {
   "cell_type": "code",
   "execution_count": null,
   "id": "073218a8",
   "metadata": {},
   "outputs": [],
   "source": [
    "@magicgui(\n",
    "auto_call=True,\n",
    "x={'widget_type': 'Slider', 'value': origin, 'min': 0, 'max': maxval},\n",
    "y={'widget_type': 'Slider', 'value': origin, 'min': 0, 'max': maxval},\n",
    "z={'widget_type': 'Slider', 'value': origin, 'min': 0, 'max': maxval},\n",
    ")\n",
    "def index_array(x=start, y=start, z=start) -> types.LayerDataTuple:\n",
    "    array = g3d[x:x+minicube_side, y:y+minicube_side, z:z+minicube_side]\n",
    "    coords = np.transpose(np.nonzero(array))\n",
    "    return (coords, {\"name\": \"gaia\", \"shading\": \"spherical\", \"size\": 1.0}, \"points\")\n",
    "\n",
    "viewer = napari.Viewer(ndisplay=3)\n",
    "viewer.window.add_dock_widget(index_array, area='bottom')\n",
    "_ = index_array()  # magic for forcing the layers to exist\n",
    "layer = viewer.layers[-1]\n",
    "\n",
    "# Attempt to remove selections; still it does not work though\n",
    "def remove_selection(*args):\n",
    "    layer.selected_data = []\n",
    "layer.events.data.connect(remove_selection)"
   ]
  },
  {
   "cell_type": "code",
   "execution_count": null,
   "id": "38e9631b",
   "metadata": {},
   "outputs": [],
   "source": [
    "# See which event we could use for annotating stars\n",
    "#layer.events.emitters"
   ]
  },
  {
   "cell_type": "code",
   "execution_count": null,
   "id": "765e2f75",
   "metadata": {},
   "outputs": [],
   "source": [
    "napari.utils.nbscreenshot(viewer, alt_text=\"A rotated 3D view\")"
   ]
  },
  {
   "cell_type": "code",
   "execution_count": null,
   "id": "61005b42",
   "metadata": {},
   "outputs": [],
   "source": []
  }
 ],
 "metadata": {
  "kernelspec": {
   "display_name": "Python 3 (ipykernel)",
   "language": "python",
   "name": "python3"
  },
  "language_info": {
   "codemirror_mode": {
    "name": "ipython",
    "version": 3
   },
   "file_extension": ".py",
   "mimetype": "text/x-python",
   "name": "python",
   "nbconvert_exporter": "python",
   "pygments_lexer": "ipython3",
   "version": "3.10.12"
  }
 },
 "nbformat": 4,
 "nbformat_minor": 5
}
