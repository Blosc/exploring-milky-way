{
 "cells": [
  {
   "cell_type": "code",
   "execution_count": 1,
   "id": "b2247426-3207-4cf6-8f56-53a3d538045d",
   "metadata": {},
   "outputs": [],
   "source": [
    "%gui qt5"
   ]
  },
  {
   "cell_type": "code",
   "execution_count": 2,
   "id": "869b2911-ab08-4326-9eea-33a9e9e0b21c",
   "metadata": {},
   "outputs": [],
   "source": [
    "import napari\n",
    "import blosc2"
   ]
  },
  {
   "cell_type": "code",
   "execution_count": 3,
   "id": "c73b0a4a-d7c2-44c3-8ae5-62813c01658b",
   "metadata": {},
   "outputs": [],
   "source": [
    "g3d = blosc2.open(\"/Users/faltet/blosc/Gaia/gaia-3d-windows-blosclz5.b2nd\")\n",
    "#g3d = blosc2.open(\"/Users/faltet/blosc/Gaia/gaia-3d-balanced.b2nd\")"
   ]
  },
  {
   "cell_type": "code",
   "execution_count": 4,
   "id": "18bfa9a5-89ad-44ee-a6af-eede3a1d0894",
   "metadata": {},
   "outputs": [],
   "source": [
    "origin = 10000\n",
    "start = origin - 100\n",
    "stop = origin + 100\n",
    "#viewer = napari.view_image(g3d[start:stop, start:stop, start:stop])"
   ]
  },
  {
   "cell_type": "code",
   "execution_count": 5,
   "id": "544dce84-a5de-4f69-926e-c9f40855ad30",
   "metadata": {},
   "outputs": [],
   "source": [
    "viewer, layers = napari.imshow(g3d[start:stop, start:stop, start:stop], contrast_limits=[0, 1])\n",
    "viewer.dims.ndisplay = 3\n",
    "viewer.camera.zoom = 2\n",
    "viewer.camera.angles = (3, 38, 53)\n",
    "# nbscreenshot(viewer, alt_text=\"A rotated 3D view\")"
   ]
  },
  {
   "cell_type": "code",
   "execution_count": 7,
   "id": "c534b345-bbd9-4470-859c-5a428e29e887",
   "metadata": {},
   "outputs": [],
   "source": [
    "# view_as_windows  # it would be nice if this could be supported in blosc2\n",
    "# magicgui\n",
    "from magicgui import magicgui\n",
    "from napari import types"
   ]
  },
  {
   "cell_type": "code",
   "execution_count": 8,
   "id": "d6ddfbcd-b3ad-43a5-8e15-989557b7f9c4",
   "metadata": {},
   "outputs": [],
   "source": [
    "start = 5000\n",
    "origin = 7000\n",
    "maxval = 15000\n",
    "@magicgui(\n",
    "auto_call=True,\n",
    "x={'widget_type': 'Slider', 'value': origin, 'min': 0, 'max': maxval},\n",
    "y={'widget_type': 'Slider', 'value': origin, 'min': 0, 'max': maxval},\n",
    "z={'widget_type': 'Slider', 'value': origin, 'min': 0, 'max': maxval},\n",
    ")\n",
    "def index_array(x=start, y=start, z=start) -> types.ImageData:\n",
    "    return g3d[x:x+100, y:y+100, z:z+100]\n",
    "\n",
    "viewer = napari.Viewer(ndisplay=3)\n",
    "viewer.window.add_dock_widget(index_array, area='bottom')\n",
    "_ = index_array()\n",
    "layer = viewer.layers[-1]\n",
    "layer.contrast_limits=[0, 1]"
   ]
  },
  {
   "cell_type": "code",
   "execution_count": null,
   "id": "d89d33a0",
   "metadata": {},
   "outputs": [],
   "source": []
  }
 ],
 "metadata": {
  "kernelspec": {
   "display_name": "Python 3 (ipykernel)",
   "language": "python",
   "name": "python3"
  },
  "language_info": {
   "codemirror_mode": {
    "name": "ipython",
    "version": 3
   },
   "file_extension": ".py",
   "mimetype": "text/x-python",
   "name": "python",
   "nbconvert_exporter": "python",
   "pygments_lexer": "ipython3",
   "version": "3.10.12"
  }
 },
 "nbformat": 4,
 "nbformat_minor": 5
}
